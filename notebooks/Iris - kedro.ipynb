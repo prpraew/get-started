{
 "cells": [
  {
   "cell_type": "markdown",
   "id": "003f6347",
   "metadata": {},
   "source": [
    "### Run Kedro session"
   ]
  },
  {
   "cell_type": "code",
   "execution_count": 13,
   "id": "45709bbe",
   "metadata": {
    "scrolled": true
   },
   "outputs": [
    {
     "data": {
      "text/plain": [
       "<kedro.framework.context.context.KedroContext at 0x1c3fb76ca00>"
      ]
     },
     "execution_count": 13,
     "metadata": {},
     "output_type": "execute_result"
    }
   ],
   "source": [
    "context"
   ]
  },
  {
   "cell_type": "code",
   "execution_count": 14,
   "id": "fda766ee",
   "metadata": {
    "scrolled": true
   },
   "outputs": [
    {
     "name": "stdout",
     "output_type": "stream",
     "text": [
      "2021-09-01 13:23:58,449 - root - INFO - ** Kedro project get-started\n",
      "2021-09-01 13:23:58,522 - kedro.io.data_catalog - INFO - Loading data from `example_iris_data` (CSVDataSet)...\n",
      "2021-09-01 13:23:58,530 - kedro.io.data_catalog - INFO - Loading data from `params:example_test_data_ratio` (MemoryDataSet)...\n",
      "2021-09-01 13:23:58,532 - kedro.pipeline.node - INFO - Running node: split: split_data([example_iris_data,params:example_test_data_ratio]) -> [example_test_x,example_test_y,example_train_x,example_train_y]\n",
      "2021-09-01 13:23:58,551 - kedro.io.data_catalog - INFO - Saving data to `example_train_x` (MemoryDataSet)...\n",
      "2021-09-01 13:23:58,552 - kedro.io.data_catalog - INFO - Saving data to `example_train_y` (MemoryDataSet)...\n",
      "2021-09-01 13:23:58,555 - kedro.io.data_catalog - INFO - Saving data to `example_test_x` (MemoryDataSet)...\n",
      "2021-09-01 13:23:58,558 - kedro.io.data_catalog - INFO - Saving data to `example_test_y` (MemoryDataSet)...\n",
      "2021-09-01 13:23:58,562 - kedro.runner.sequential_runner - INFO - Completed 1 out of 4 tasks\n",
      "2021-09-01 13:23:58,564 - kedro.io.data_catalog - INFO - Loading data from `example_train_x` (MemoryDataSet)...\n",
      "2021-09-01 13:23:58,566 - kedro.io.data_catalog - INFO - Loading data from `example_train_y` (MemoryDataSet)...\n",
      "2021-09-01 13:23:58,568 - kedro.io.data_catalog - INFO - Loading data from `parameters` (MemoryDataSet)...\n",
      "2021-09-01 13:23:58,572 - kedro.pipeline.node - INFO - Running node: train: train_model([example_train_x,example_train_y,parameters]) -> [example_model]\n",
      "2021-09-01 13:23:59,105 - kedro.io.data_catalog - INFO - Saving data to `example_model` (MemoryDataSet)...\n",
      "2021-09-01 13:23:59,107 - kedro.runner.sequential_runner - INFO - Completed 2 out of 4 tasks\n",
      "2021-09-01 13:23:59,109 - kedro.io.data_catalog - INFO - Loading data from `example_model` (MemoryDataSet)...\n",
      "2021-09-01 13:23:59,111 - kedro.io.data_catalog - INFO - Loading data from `example_test_x` (MemoryDataSet)...\n",
      "2021-09-01 13:23:59,113 - kedro.pipeline.node - INFO - Running node: predict: predict([example_model,example_test_x]) -> [example_predictions]\n",
      "2021-09-01 13:23:59,116 - kedro.io.data_catalog - INFO - Saving data to `example_predictions` (MemoryDataSet)...\n",
      "2021-09-01 13:23:59,119 - kedro.runner.sequential_runner - INFO - Completed 3 out of 4 tasks\n",
      "2021-09-01 13:23:59,121 - kedro.io.data_catalog - INFO - Loading data from `example_predictions` (MemoryDataSet)...\n",
      "2021-09-01 13:23:59,124 - kedro.io.data_catalog - INFO - Loading data from `example_test_y` (MemoryDataSet)...\n",
      "2021-09-01 13:23:59,126 - kedro.pipeline.node - INFO - Running node: report: report_accuracy([example_predictions,example_test_y]) -> None\n",
      "2021-09-01 13:23:59,128 - get_started.pipelines.data_science.nodes - INFO - Model accuracy on test set: 96.67%\n",
      "2021-09-01 13:23:59,131 - kedro.runner.sequential_runner - INFO - Completed 4 out of 4 tasks\n",
      "2021-09-01 13:23:59,133 - kedro.runner.sequential_runner - INFO - Pipeline execution completed successfully.\n"
     ]
    },
    {
     "data": {
      "text/plain": [
       "{}"
      ]
     },
     "execution_count": 14,
     "metadata": {},
     "output_type": "execute_result"
    }
   ],
   "source": [
    "session.run()"
   ]
  },
  {
   "cell_type": "code",
   "execution_count": 15,
   "id": "de40d666",
   "metadata": {},
   "outputs": [
    {
     "data": {
      "text/plain": [
       "0.2"
      ]
     },
     "execution_count": 15,
     "metadata": {},
     "output_type": "execute_result"
    }
   ],
   "source": [
    "parameters = context.params  # type: Dict\n",
    "parameters[\"example_test_data_ratio\"]\n",
    "# returns the value of 'example_test_data_ratio' key from 'conf/base/parameters.yml'"
   ]
  },
  {
   "cell_type": "code",
   "execution_count": 16,
   "id": "c88b6919",
   "metadata": {
    "scrolled": false
   },
   "outputs": [
    {
     "name": "stdout",
     "output_type": "stream",
     "text": [
      "2021-09-01 13:23:59,187 - kedro.io.data_catalog - INFO - Loading data from `example_iris_data` (CSVDataSet)...\n"
     ]
    },
    {
     "data": {
      "text/html": [
       "<div>\n",
       "<style scoped>\n",
       "    .dataframe tbody tr th:only-of-type {\n",
       "        vertical-align: middle;\n",
       "    }\n",
       "\n",
       "    .dataframe tbody tr th {\n",
       "        vertical-align: top;\n",
       "    }\n",
       "\n",
       "    .dataframe thead th {\n",
       "        text-align: right;\n",
       "    }\n",
       "</style>\n",
       "<table border=\"1\" class=\"dataframe\">\n",
       "  <thead>\n",
       "    <tr style=\"text-align: right;\">\n",
       "      <th></th>\n",
       "      <th>sepal_length</th>\n",
       "      <th>sepal_width</th>\n",
       "      <th>petal_length</th>\n",
       "      <th>petal_width</th>\n",
       "      <th>species</th>\n",
       "    </tr>\n",
       "  </thead>\n",
       "  <tbody>\n",
       "    <tr>\n",
       "      <th>0</th>\n",
       "      <td>5.1</td>\n",
       "      <td>3.5</td>\n",
       "      <td>1.4</td>\n",
       "      <td>0.2</td>\n",
       "      <td>setosa</td>\n",
       "    </tr>\n",
       "    <tr>\n",
       "      <th>1</th>\n",
       "      <td>4.9</td>\n",
       "      <td>3.0</td>\n",
       "      <td>1.4</td>\n",
       "      <td>0.2</td>\n",
       "      <td>setosa</td>\n",
       "    </tr>\n",
       "    <tr>\n",
       "      <th>2</th>\n",
       "      <td>4.7</td>\n",
       "      <td>3.2</td>\n",
       "      <td>1.3</td>\n",
       "      <td>0.2</td>\n",
       "      <td>setosa</td>\n",
       "    </tr>\n",
       "    <tr>\n",
       "      <th>3</th>\n",
       "      <td>4.6</td>\n",
       "      <td>3.1</td>\n",
       "      <td>1.5</td>\n",
       "      <td>0.2</td>\n",
       "      <td>setosa</td>\n",
       "    </tr>\n",
       "    <tr>\n",
       "      <th>4</th>\n",
       "      <td>5.0</td>\n",
       "      <td>3.6</td>\n",
       "      <td>1.4</td>\n",
       "      <td>0.2</td>\n",
       "      <td>setosa</td>\n",
       "    </tr>\n",
       "  </tbody>\n",
       "</table>\n",
       "</div>"
      ],
      "text/plain": [
       "   sepal_length  sepal_width  petal_length  petal_width species\n",
       "0           5.1          3.5           1.4          0.2  setosa\n",
       "1           4.9          3.0           1.4          0.2  setosa\n",
       "2           4.7          3.2           1.3          0.2  setosa\n",
       "3           4.6          3.1           1.5          0.2  setosa\n",
       "4           5.0          3.6           1.4          0.2  setosa"
      ]
     },
     "execution_count": 16,
     "metadata": {},
     "output_type": "execute_result"
    }
   ],
   "source": [
    "df = catalog.load(\"example_iris_data\")\n",
    "df.head()"
   ]
  },
  {
   "cell_type": "code",
   "execution_count": 21,
   "id": "5d2bce0c",
   "metadata": {},
   "outputs": [],
   "source": [
    "%reload_kedro"
   ]
  },
  {
   "cell_type": "code",
   "execution_count": null,
   "id": "f7d1b5e8",
   "metadata": {},
   "outputs": [],
   "source": []
  }
 ],
 "metadata": {
  "kernelspec": {
   "display_name": "irisexample",
   "language": "python",
   "name": "python3"
  },
  "language_info": {
   "codemirror_mode": {
    "name": "ipython",
    "version": 3
   },
   "file_extension": ".py",
   "mimetype": "text/x-python",
   "name": "python",
   "nbconvert_exporter": "python",
   "pygments_lexer": "ipython3",
   "version": "3.8.8"
  }
 },
 "nbformat": 4,
 "nbformat_minor": 5
}
