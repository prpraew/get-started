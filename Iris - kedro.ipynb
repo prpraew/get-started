{
 "cells": [
  {
   "cell_type": "code",
   "execution_count": 22,
   "id": "9af0a3b2",
   "metadata": {},
   "outputs": [
    {
     "name": "stderr",
     "output_type": "stream",
     "text": [
      "C:\\Users\\ASUS\\anaconda3\\lib\\site-packages\\ipykernel\\ipkernel.py:287: DeprecationWarning: `should_run_async` will not call `transform_cell` automatically in the future. Please pass the result to `transformed_cell` argument and any exception that happen during thetransform in `preprocessing_exc_tuple` in IPython 7.17 and above.\n",
      "  and should_run_async(code)\n"
     ]
    },
    {
     "data": {
      "text/plain": [
       "<kedro.framework.context.context.KedroContext at 0x1eda133e3a0>"
      ]
     },
     "execution_count": 22,
     "metadata": {},
     "output_type": "execute_result"
    }
   ],
   "source": [
    "context"
   ]
  },
  {
   "cell_type": "code",
   "execution_count": 19,
   "id": "0ca86617",
   "metadata": {
    "scrolled": true
   },
   "outputs": [
    {
     "name": "stdout",
     "output_type": "stream",
     "text": [
      "2021-09-01 13:07:14,449 - root - INFO - ** Kedro project get-started\n",
      "2021-09-01 13:07:14,471 - kedro.io.data_catalog - INFO - Loading data from `example_iris_data` (CSVDataSet)...\n",
      "2021-09-01 13:07:14,477 - kedro.io.data_catalog - INFO - Loading data from `params:example_test_data_ratio` (MemoryDataSet)...\n",
      "2021-09-01 13:07:14,479 - kedro.pipeline.node - INFO - Running node: split: split_data([example_iris_data,params:example_test_data_ratio]) -> [example_test_x,example_test_y,example_train_x,example_train_y]\n",
      "2021-09-01 13:07:14,495 - kedro.io.data_catalog - INFO - Saving data to `example_train_x` (MemoryDataSet)...\n",
      "2021-09-01 13:07:14,497 - kedro.io.data_catalog - INFO - Saving data to `example_train_y` (MemoryDataSet)...\n",
      "2021-09-01 13:07:14,499 - kedro.io.data_catalog - INFO - Saving data to `example_test_x` (MemoryDataSet)...\n",
      "2021-09-01 13:07:14,501 - kedro.io.data_catalog - INFO - Saving data to `example_test_y` (MemoryDataSet)...\n",
      "2021-09-01 13:07:14,506 - kedro.runner.sequential_runner - INFO - Completed 1 out of 4 tasks\n",
      "2021-09-01 13:07:14,508 - kedro.io.data_catalog - INFO - Loading data from `example_train_x` (MemoryDataSet)...\n",
      "2021-09-01 13:07:14,510 - kedro.io.data_catalog - INFO - Loading data from `example_train_y` (MemoryDataSet)...\n",
      "2021-09-01 13:07:14,511 - kedro.io.data_catalog - INFO - Loading data from `parameters` (MemoryDataSet)...\n",
      "2021-09-01 13:07:14,515 - kedro.pipeline.node - INFO - Running node: train: train_model([example_train_x,example_train_y,parameters]) -> [example_model]\n"
     ]
    },
    {
     "name": "stderr",
     "output_type": "stream",
     "text": [
      "C:\\Users\\ASUS\\anaconda3\\lib\\site-packages\\ipykernel\\ipkernel.py:287: DeprecationWarning: `should_run_async` will not call `transform_cell` automatically in the future. Please pass the result to `transformed_cell` argument and any exception that happen during thetransform in `preprocessing_exc_tuple` in IPython 7.17 and above.\n",
      "  and should_run_async(code)\n"
     ]
    },
    {
     "name": "stdout",
     "output_type": "stream",
     "text": [
      "2021-09-01 13:07:14,992 - kedro.io.data_catalog - INFO - Saving data to `example_model` (MemoryDataSet)...\n",
      "2021-09-01 13:07:14,995 - kedro.runner.sequential_runner - INFO - Completed 2 out of 4 tasks\n",
      "2021-09-01 13:07:14,997 - kedro.io.data_catalog - INFO - Loading data from `example_model` (MemoryDataSet)...\n",
      "2021-09-01 13:07:14,999 - kedro.io.data_catalog - INFO - Loading data from `example_test_x` (MemoryDataSet)...\n",
      "2021-09-01 13:07:15,001 - kedro.pipeline.node - INFO - Running node: predict: predict([example_model,example_test_x]) -> [example_predictions]\n",
      "2021-09-01 13:07:15,003 - kedro.io.data_catalog - INFO - Saving data to `example_predictions` (MemoryDataSet)...\n",
      "2021-09-01 13:07:15,007 - kedro.runner.sequential_runner - INFO - Completed 3 out of 4 tasks\n",
      "2021-09-01 13:07:15,009 - kedro.io.data_catalog - INFO - Loading data from `example_predictions` (MemoryDataSet)...\n",
      "2021-09-01 13:07:15,012 - kedro.io.data_catalog - INFO - Loading data from `example_test_y` (MemoryDataSet)...\n",
      "2021-09-01 13:07:15,013 - kedro.pipeline.node - INFO - Running node: report: report_accuracy([example_predictions,example_test_y]) -> None\n",
      "2021-09-01 13:07:15,014 - get_started.pipelines.data_science.nodes - INFO - Model accuracy on test set: 93.33%\n",
      "2021-09-01 13:07:15,016 - kedro.runner.sequential_runner - INFO - Completed 4 out of 4 tasks\n",
      "2021-09-01 13:07:15,018 - kedro.runner.sequential_runner - INFO - Pipeline execution completed successfully.\n"
     ]
    },
    {
     "data": {
      "text/plain": [
       "{}"
      ]
     },
     "execution_count": 19,
     "metadata": {},
     "output_type": "execute_result"
    }
   ],
   "source": [
    "session.run()"
   ]
  },
  {
   "cell_type": "code",
   "execution_count": 20,
   "id": "5547661f",
   "metadata": {},
   "outputs": [
    {
     "data": {
      "text/plain": [
       "0.2"
      ]
     },
     "execution_count": 20,
     "metadata": {},
     "output_type": "execute_result"
    }
   ],
   "source": [
    "parameters = context.params  # type: Dict\n",
    "parameters[\"example_test_data_ratio\"]\n",
    "# returns the value of 'example_test_data_ratio' key from 'conf/base/parameters.yml'"
   ]
  },
  {
   "cell_type": "code",
   "execution_count": 21,
   "id": "7e4d867f",
   "metadata": {
    "scrolled": true
   },
   "outputs": [
    {
     "name": "stdout",
     "output_type": "stream",
     "text": [
      "2021-09-01 13:07:15,887 - kedro.io.data_catalog - INFO - Loading data from `example_iris_data` (CSVDataSet)...\n"
     ]
    },
    {
     "data": {
      "text/html": [
       "<div>\n",
       "<style scoped>\n",
       "    .dataframe tbody tr th:only-of-type {\n",
       "        vertical-align: middle;\n",
       "    }\n",
       "\n",
       "    .dataframe tbody tr th {\n",
       "        vertical-align: top;\n",
       "    }\n",
       "\n",
       "    .dataframe thead th {\n",
       "        text-align: right;\n",
       "    }\n",
       "</style>\n",
       "<table border=\"1\" class=\"dataframe\">\n",
       "  <thead>\n",
       "    <tr style=\"text-align: right;\">\n",
       "      <th></th>\n",
       "      <th>sepal_length</th>\n",
       "      <th>sepal_width</th>\n",
       "      <th>petal_length</th>\n",
       "      <th>petal_width</th>\n",
       "      <th>species</th>\n",
       "    </tr>\n",
       "  </thead>\n",
       "  <tbody>\n",
       "    <tr>\n",
       "      <th>0</th>\n",
       "      <td>5.1</td>\n",
       "      <td>3.5</td>\n",
       "      <td>1.4</td>\n",
       "      <td>0.2</td>\n",
       "      <td>setosa</td>\n",
       "    </tr>\n",
       "    <tr>\n",
       "      <th>1</th>\n",
       "      <td>4.9</td>\n",
       "      <td>3.0</td>\n",
       "      <td>1.4</td>\n",
       "      <td>0.2</td>\n",
       "      <td>setosa</td>\n",
       "    </tr>\n",
       "    <tr>\n",
       "      <th>2</th>\n",
       "      <td>4.7</td>\n",
       "      <td>3.2</td>\n",
       "      <td>1.3</td>\n",
       "      <td>0.2</td>\n",
       "      <td>setosa</td>\n",
       "    </tr>\n",
       "    <tr>\n",
       "      <th>3</th>\n",
       "      <td>4.6</td>\n",
       "      <td>3.1</td>\n",
       "      <td>1.5</td>\n",
       "      <td>0.2</td>\n",
       "      <td>setosa</td>\n",
       "    </tr>\n",
       "    <tr>\n",
       "      <th>4</th>\n",
       "      <td>5.0</td>\n",
       "      <td>3.6</td>\n",
       "      <td>1.4</td>\n",
       "      <td>0.2</td>\n",
       "      <td>setosa</td>\n",
       "    </tr>\n",
       "  </tbody>\n",
       "</table>\n",
       "</div>"
      ],
      "text/plain": [
       "   sepal_length  sepal_width  petal_length  petal_width species\n",
       "0           5.1          3.5           1.4          0.2  setosa\n",
       "1           4.9          3.0           1.4          0.2  setosa\n",
       "2           4.7          3.2           1.3          0.2  setosa\n",
       "3           4.6          3.1           1.5          0.2  setosa\n",
       "4           5.0          3.6           1.4          0.2  setosa"
      ]
     },
     "execution_count": 21,
     "metadata": {},
     "output_type": "execute_result"
    }
   ],
   "source": [
    "df = catalog.load(\"example_iris_data\")\n",
    "df.head()"
   ]
  },
  {
   "cell_type": "code",
   "execution_count": null,
   "id": "d5fcab0b",
   "metadata": {},
   "outputs": [],
   "source": []
  }
 ],
 "metadata": {
  "kernelspec": {
   "display_name": "irisexample",
   "language": "python",
   "name": "python3"
  },
  "language_info": {
   "codemirror_mode": {
    "name": "ipython",
    "version": 3
   },
   "file_extension": ".py",
   "mimetype": "text/x-python",
   "name": "python",
   "nbconvert_exporter": "python",
   "pygments_lexer": "ipython3",
   "version": "3.8.8"
  }
 },
 "nbformat": 4,
 "nbformat_minor": 5
}
